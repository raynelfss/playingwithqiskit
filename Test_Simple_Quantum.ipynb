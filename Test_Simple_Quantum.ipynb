{
 "cells": [
  {
   "cell_type": "code",
   "execution_count": 11,
   "metadata": {},
   "outputs": [],
   "source": [
    "# Importing standard Qiskit libraries\n",
    "from qiskit import *\n",
    "from matplotlib import *\n",
    "from qiskit.tools.jupyter import *\n",
    "from qiskit.visualization import *\n",
    "# from ibm_quantum_widgets import *\n",
    "from qiskit_aer import *\n",
    "\n",
    "# qiskit-ibmq-provider has been deprecated.\n",
    "# Please see the Migration Guides in https://ibm.biz/provider_migration_guide for more detail.\n",
    "# from qiskit_ibm_runtime import QiskitRuntimeService, Sampler, Estimator, Session, Options\n",
    "\n",
    "# Loading your IBM Quantum account(s)\n",
    "# service = QiskitRuntimeService(channel=\"ibm_quantum\")\n",
    "\n",
    "# Invoke a primitive inside a session. For more details see https://qiskit.org/documentation/partners/qiskit_ibm_runtime/tutorials.html\n",
    "# with Session(backend=service.backend(\"ibmq_qasm_simulator\")):\n",
    "#     result = Sampler().run(circuits).result()"
   ]
  },
  {
   "cell_type": "code",
   "execution_count": 12,
   "metadata": {},
   "outputs": [
    {
     "data": {
      "text/html": [
       "<pre style=\"word-wrap: normal;white-space: pre;background: #fff0;line-height: 1.1;font-family: &quot;Courier New&quot;,Courier,monospace\">      \n",
       "q8_0: \n",
       "      \n",
       "q8_1: \n",
       "      \n",
       "q8_2: \n",
       "      \n",
       "q8_3: \n",
       "      \n",
       "c4: 4/\n",
       "      </pre>"
      ],
      "text/plain": [
       "      \n",
       "q8_0: \n",
       "      \n",
       "q8_1: \n",
       "      \n",
       "q8_2: \n",
       "      \n",
       "q8_3: \n",
       "      \n",
       "c4: 4/\n",
       "      "
      ]
     },
     "execution_count": 12,
     "metadata": {},
     "output_type": "execute_result"
    }
   ],
   "source": [
    "# Little test of circuits\n",
    "\n",
    "# Let's initialize a small 4 qubit <-> 4 bit system\n",
    "qubits = QuantumRegister(4)\n",
    "classical = ClassicalRegister(4)\n",
    "\n",
    "# Let's then create out Quantum Circuit\n",
    "qc = QuantumCircuit(qubits, classical, name=\"Test Circuit\")\n",
    "\n",
    "qc.draw()"
   ]
  },
  {
   "cell_type": "code",
   "execution_count": 13,
   "metadata": {},
   "outputs": [],
   "source": [
    "# Let's try and create a function that builds a simple Quantum Circuit (Without measuring)\n",
    "def build_circuit(qubits: int, bits: int = 0, name: str = \"\", measure_all: bool = False) -> QuantumCircuit:\n",
    "    # Initialize the qubits and bits registers\n",
    "    qubits_reg = QuantumRegister(qubits)\n",
    "    \n",
    "    classical_reg = ClassicalRegister(bits) if bits else ClassicalRegister(qubits)\n",
    "\n",
    "    # Generate the circuit\n",
    "    circuit = QuantumCircuit(qubits_reg, classical_reg, name=name)\n",
    "\n",
    "    if measure_all:\n",
    "        circuit.measure_all()\n",
    "    return circuit"
   ]
  },
  {
   "attachments": {},
   "cell_type": "markdown",
   "metadata": {},
   "source": [
    "## Setting up our circuit\n",
    "We want to make a simple 4 qubit quantum circuit in which we apply the following gates to each qubit:\n",
    "\n",
    "- **Qubit 0**: Hadamard gate.\n",
    "- **Qubit 1**: X gate followed by Hadamard.\n",
    "- **Qubit 2**: Z gate followed by Hadamard.\n",
    "- **Qubit 3**: Y gate followed by Hadamard.\n",
    "\n",
    "I want to observe the changes in each qubit state as they locate themselves in different corners of the block sphere"
   ]
  },
  {
   "cell_type": "code",
   "execution_count": 22,
   "metadata": {},
   "outputs": [],
   "source": [
    "new_qc = build_circuit(4)\n",
    "new_qc.h(0)\n",
    "new_qc.x(1)\n",
    "new_qc.h(1)\n",
    "new_qc.z(2)\n",
    "new_qc.h(2)\n",
    "new_qc.y(3)\n",
    "new_qc.h(3)\n",
    "# visualize_transition(new_qc, trace=True)\n",
    "for i in range(4):\n",
    "    new_qc.measure(i,i)"
   ]
  },
  {
   "attachments": {},
   "cell_type": "markdown",
   "metadata": {},
   "source": [
    "### Attempt to visualize transitions in each Qubit\n",
    "- Use the visualization tool."
   ]
  },
  {
   "cell_type": "code",
   "execution_count": 23,
   "metadata": {},
   "outputs": [
    {
     "data": {
      "text/html": [
       "<pre style=\"word-wrap: normal;white-space: pre;background: #fff0;line-height: 1.1;font-family: &quot;Courier New&quot;,Courier,monospace\">       ┌───┐     ┌─┐         \n",
       "q19_0: ┤ H ├─────┤M├─────────\n",
       "       ├───┤┌───┐└╥┘┌─┐      \n",
       "q19_1: ┤ X ├┤ H ├─╫─┤M├──────\n",
       "       ├───┤├───┤ ║ └╥┘┌─┐   \n",
       "q19_2: ┤ Z ├┤ H ├─╫──╫─┤M├───\n",
       "       ├───┤├───┤ ║  ║ └╥┘┌─┐\n",
       "q19_3: ┤ Y ├┤ H ├─╫──╫──╫─┤M├\n",
       "       └───┘└───┘ ║  ║  ║ └╥┘\n",
       " c7: 4/═══════════╩══╩══╩══╩═\n",
       "                  0  1  2  3 </pre>"
      ],
      "text/plain": [
       "       ┌───┐     ┌─┐         \n",
       "q19_0: ┤ H ├─────┤M├─────────\n",
       "       ├───┤┌───┐└╥┘┌─┐      \n",
       "q19_1: ┤ X ├┤ H ├─╫─┤M├──────\n",
       "       ├───┤├───┤ ║ └╥┘┌─┐   \n",
       "q19_2: ┤ Z ├┤ H ├─╫──╫─┤M├───\n",
       "       ├───┤├───┤ ║  ║ └╥┘┌─┐\n",
       "q19_3: ┤ Y ├┤ H ├─╫──╫──╫─┤M├\n",
       "       └───┘└───┘ ║  ║  ║ └╥┘\n",
       " c7: 4/═══════════╩══╩══╩══╩═\n",
       "                  0  1  2  3 "
      ]
     },
     "execution_count": 23,
     "metadata": {},
     "output_type": "execute_result"
    }
   ],
   "source": [
    "new_qc.draw()"
   ]
  },
  {
   "cell_type": "code",
   "execution_count": 24,
   "metadata": {},
   "outputs": [
    {
     "name": "stdout",
     "output_type": "stream",
     "text": [
      "{'1100': 648, '1011': 606, '1010': 648, '1111': 616, '0001': 655, '0100': 604, '0111': 594, '0011': 659, '1101': 614, '1000': 573, '0110': 600, '0000': 661, '0010': 613, '1001': 623, '0101': 643, '1110': 643}\n"
     ]
    },
    {
     "data": {
      "image/png": "[encoded data removed]",
      "text/plain": [
       "<Figure size 700x500 with 1 Axes>"
      ]
     },
     "execution_count": 24,
     "metadata": {},
     "output_type": "execute_result"
    }
   ],
   "source": [
    "simulator = AerSimulator()\n",
    "# simulator = Aer.get_backend('aer_simulator')\n",
    "transpiled = transpile(new_qc, simulator)\n",
    "result = simulator.run(transpiled, shots = 10000).result()\n",
    "counts = result.get_counts(transpiled)\n",
    "print(counts)\n",
    "plot_histogram(counts)"
   ]
  }
 ],
 "metadata": {
  "kernelspec": {
   "display_name": "env",
   "language": "python",
   "name": "python3"
  },
  "language_info": {
   "codemirror_mode": {
    "name": "ipython",
    "version": 3
   },
   "file_extension": ".py",
   "mimetype": "text/x-python",
   "name": "python",
   "nbconvert_exporter": "python",
   "pygments_lexer": "ipython3",
   "version": "3.10.6"
  },
  "orig_nbformat": 4
 },
 "nbformat": 4,
 "nbformat_minor": 2
}
